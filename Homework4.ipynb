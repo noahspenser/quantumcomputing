{
  "nbformat": 4,
  "nbformat_minor": 0,
  "metadata": {
    "colab": {
      "name": "Homework4.ipynb",
      "provenance": [],
      "authorship_tag": "ABX9TyMxrKLWLj6f+LqlQuZTXOhY",
      "include_colab_link": true
    },
    "kernelspec": {
      "name": "python3",
      "display_name": "Python 3"
    }
  },
  "cells": [
    {
      "cell_type": "markdown",
      "metadata": {
        "id": "view-in-github",
        "colab_type": "text"
      },
      "source": [
        "<a href=\"https://colab.research.google.com/github/noahspenser/quantumcomputing/blob/master/Homework4.ipynb\" target=\"_parent\"><img src=\"https://colab.research.google.com/assets/colab-badge.svg\" alt=\"Open In Colab\"/></a>"
      ]
    },
    {
      "cell_type": "markdown",
      "metadata": {
        "id": "KpvJESEs-T9R",
        "colab_type": "text"
      },
      "source": [
        "Floyd's Cycle Detection"
      ]
    },
    {
      "cell_type": "code",
      "metadata": {
        "id": "QggCyL_F7GVm",
        "colab_type": "code",
        "outputId": "765aa4f3-435b-45cf-e468-6337fd2d4c9d",
        "colab": {
          "base_uri": "https://localhost:8080/",
          "height": 102
        }
      },
      "source": [
        "import numpy, numpy.random, scipy, scipy.linalg\n",
        "import matplotlib.pyplot as plt\n",
        "\n",
        "graph = {'A': 'C',\n",
        "         'B': 'D',\n",
        "         'C': 'D',\n",
        "         'D': 'F',\n",
        "         'E': 'F',\n",
        "         'F': 'C'}\n",
        "\n",
        "graph2 = {'A': 'B',\n",
        "          'B': 'F',\n",
        "          'C': 'D',\n",
        "          'D': 'E',\n",
        "          'E': 'G',\n",
        "          'F': 'C',\n",
        "          'G': 'D'}\n",
        "\n",
        "list1 = [1, 2, 5, 6, 9, 0, 1, 3, 5, 7, 9, 1, 3, 5, 7, 9, 1, 3, 5, 7, 9, 1, 3, 5, 7, 9]\n",
        "\n",
        "# function defined with arbitrary cycling function and starting position\n",
        "def floyd(f, start):\n",
        "  # initialize second and third positions\n",
        "  tort = f(start)\n",
        "  hare = f(f(start))\n",
        "  # find the cycle once\n",
        "  while (tort != hare):\n",
        "    tort = f(tort)\n",
        "    hare = f(f(hare))\n",
        "  \n",
        "  # find the position mu of the first repetition\n",
        "  mu = 0\n",
        "  tort = start\n",
        "  while(tort != hare):\n",
        "    tort = f(tort)\n",
        "    hare = f(hare)\n",
        "    mu += 1\n",
        "  \n",
        "  # find the length lambda of the shortest cycle\n",
        "  lam = 1\n",
        "  hare = f(tort)\n",
        "  while(tort != hare):\n",
        "    hare = f(hare)\n",
        "    lam += 1\n",
        "  return lam, mu\n",
        "\n",
        "# function defined with how to get the value at a given index\n",
        "def floyd_using_indices(f):\n",
        "  tort = 1\n",
        "  hare = 2\n",
        "  # find the cycle once\n",
        "  while(f(tort) != f(hare)):\n",
        "    tort += 1\n",
        "    hare += 2\n",
        "  # initial lambda guess\n",
        "  lam = hare-tort\n",
        "  # store hare position\n",
        "  ha = hare\n",
        "\n",
        "  # check for shorter lambdas\n",
        "  hare -= 1\n",
        "  while(tort != hare):\n",
        "    if(f(tort) == f(hare)):\n",
        "      lam = hare-tort\n",
        "    hare -= 1\n",
        "\n",
        "  # return to previous hare position and check for starting position mu\n",
        "  hare = ha\n",
        "  while(f(tort) == f(hare)):\n",
        "    tort -= 1\n",
        "    hare -= 1\n",
        "  mu = tort + 1\n",
        "  return lam, mu\n",
        "\n",
        "print(\"Graphical Results\")\n",
        "print(floyd(lambda a: graph[a], 'A'))\n",
        "print(floyd(lambda a: graph2[a], 'A'))\n",
        "\n",
        "print(\"Index Results\")\n",
        "print(floyd_using_indices(lambda a: list1[a]))"
      ],
      "execution_count": 28,
      "outputs": [
        {
          "output_type": "stream",
          "text": [
            "Graphical Results\n",
            "(3, 1)\n",
            "(3, 4)\n",
            "Index Results\n",
            "(5, 6)\n"
          ],
          "name": "stdout"
        }
      ]
    },
    {
      "cell_type": "markdown",
      "metadata": {
        "id": "Yr2sexBdbYvv",
        "colab_type": "text"
      },
      "source": [
        "Find Order"
      ]
    },
    {
      "cell_type": "code",
      "metadata": {
        "id": "3_z-qpXwbdU0",
        "colab_type": "code",
        "colab": {
          "base_uri": "https://localhost:8080/",
          "height": 68
        },
        "outputId": "8b89412a-d34f-42b3-bbdb-0d97f9c7a507"
      },
      "source": [
        "import numpy, numpy.random, scipy, scipy.linalg\n",
        "import matplotlib.pyplot as plt\n",
        "\n",
        "def floyd_using_indices(f):\n",
        "  tort = 1\n",
        "  hare = 2\n",
        "  while(f(tort) != f(hare)):\n",
        "    tort += 1\n",
        "    hare += 2\n",
        "  lam = hare-tort\n",
        "  ha = hare\n",
        "  hare -= 1\n",
        "  while(tort != hare):\n",
        "    if(f(tort) == f(hare)):\n",
        "      lam = hare-tort\n",
        "    hare -= 1\n",
        "  hare = ha\n",
        "  while(f(tort) == f(hare)):\n",
        "    tort -= 1\n",
        "    hare -= 1\n",
        "  mu = tort + 1\n",
        "  return lam, mu\n",
        "\n",
        "# order finding function using floyd index-based cycle detection\n",
        "def find_order(a, N):\n",
        "  # index value calculated by a^index modulo N, creating an \"infinite\" list\n",
        "  # of the resulting values -- since x^0 is always 1, the value of mu will\n",
        "  # always be 0, so our lambda value is always equal to the order\n",
        "  return floyd_using_indices(lambda i: (a**(i)) % N)[0]\n",
        "\n",
        "print(find_order(4, 7))\n",
        "print(find_order(4, 11))\n",
        "print(find_order(64, 97))"
      ],
      "execution_count": 37,
      "outputs": [
        {
          "output_type": "stream",
          "text": [
            "3\n",
            "5\n",
            "8\n"
          ],
          "name": "stdout"
        }
      ]
    },
    {
      "cell_type": "markdown",
      "metadata": {
        "id": "X_R_ud3uhDFL",
        "colab_type": "text"
      },
      "source": [
        "Factor Function"
      ]
    },
    {
      "cell_type": "code",
      "metadata": {
        "id": "D4LSCbxNhFja",
        "colab_type": "code",
        "colab": {
          "base_uri": "https://localhost:8080/",
          "height": 102
        },
        "outputId": "81808a7d-4d4d-46cd-bf77-0eced050e19f"
      },
      "source": [
        "import numpy, numpy.random, scipy, scipy.linalg, math\n",
        "import matplotlib.pyplot as plt\n",
        "\n",
        "def floyd_using_indices(f):\n",
        "  tort = 1\n",
        "  hare = 2\n",
        "  while(f(tort) != f(hare)):\n",
        "    tort += 1\n",
        "    hare += 2\n",
        "  lam = hare-tort\n",
        "  ha = hare\n",
        "  hare -= 1\n",
        "  while(tort != hare):\n",
        "    if(f(tort) == f(hare)):\n",
        "      lam = hare-tort\n",
        "    hare -= 1\n",
        "  hare = ha\n",
        "  while(f(tort) == f(hare)):\n",
        "    tort -= 1\n",
        "    hare -= 1\n",
        "  mu = tort + 1\n",
        "  return lam, mu\n",
        "\n",
        "def find_order(a, N):\n",
        "  return floyd_using_indices(lambda i: (a**(i)) % N)[0]\n",
        "\n",
        "def factor(N):\n",
        "  # initialize f to 1 (a trivial factor)\n",
        "  f = 1\n",
        "\n",
        "  # repeat until the returned factor is non-trivial\n",
        "  while(f == 1 or f == N):\n",
        "    # initialize r to an odd value and a to zero\n",
        "    a = 0\n",
        "    r = 1\n",
        "    # repeat until returned r is even\n",
        "    while(r % 2 == 1):\n",
        "      a = numpy.random.randint(2, N)\n",
        "      r = find_order(a, N)\n",
        "    # calculate the factor\n",
        "    f = math.gcd(int(a**((r/2) - 1)), N)\n",
        "  return f\n",
        "\n",
        "eets = 7*13*97 #8827\n",
        "for n in range(5):\n",
        "  print(factor(eets))"
      ],
      "execution_count": 53,
      "outputs": [
        {
          "output_type": "stream",
          "text": [
            "13\n",
            "7\n",
            "91\n",
            "13\n",
            "7\n"
          ],
          "name": "stdout"
        }
      ]
    }
  ]
}