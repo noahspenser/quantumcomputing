{
  "nbformat": 4,
  "nbformat_minor": 0,
  "metadata": {
    "colab": {
      "name": "Homework1.ipynb",
      "provenance": [],
      "collapsed_sections": [],
      "authorship_tag": "ABX9TyMN1pc0HVsRljiydJ9cwIhi",
      "include_colab_link": true
    },
    "kernelspec": {
      "name": "python3",
      "display_name": "Python 3"
    }
  },
  "cells": [
    {
      "cell_type": "markdown",
      "metadata": {
        "id": "view-in-github",
        "colab_type": "text"
      },
      "source": [
        "<a href=\"https://colab.research.google.com/github/noahspenser/quantumcomputing/blob/master/Homework1.ipynb\" target=\"_parent\"><img src=\"https://colab.research.google.com/assets/colab-badge.svg\" alt=\"Open In Colab\"/></a>"
      ]
    },
    {
      "cell_type": "code",
      "metadata": {
        "id": "Xt4dwkmFLZTU",
        "colab_type": "code",
        "outputId": "dbf7ab26-40b7-4d5c-b269-b0ff88f5bddf",
        "colab": {
          "base_uri": "https://localhost:8080/",
          "height": 85
        }
      },
      "source": [
        "import numpy, scipy.linalg\n",
        "Mx = numpy.matrix([[4, 1, 5], [2, 0, 3], [1, 1, 2]])\n",
        "\n",
        "def annihilate_poly(inM):\n",
        "  n, m = inM.shape\n",
        "  if n!=m:\n",
        "    return\n",
        "  arrayVecPowers = numpy.array([numpy.asarray(numpy.linalg.matrix_power(inM, a).flatten())[0] for a in range(0, n+1)])\n",
        "  out = scipy.linalg.null_space(numpy.transpose(arrayVecPowers)) # I couldn't get linalg.solve to work, nor could I get the other non-square method to work, so I just computed the null_space of the transposed vectors\n",
        "                                                                  \n",
        "  print(out)\n",
        "\n",
        "annihilate_poly(Mx)"
      ],
      "execution_count": 0,
      "outputs": [
        {
          "output_type": "stream",
          "text": [
            "[[-0.42426407]\n",
            " [ 0.28284271]\n",
            " [ 0.84852814]\n",
            " [-0.14142136]]\n"
          ],
          "name": "stdout"
        }
      ]
    }
  ]
}