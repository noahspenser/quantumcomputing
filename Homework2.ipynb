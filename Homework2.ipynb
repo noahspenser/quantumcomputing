{
  "nbformat": 4,
  "nbformat_minor": 0,
  "metadata": {
    "colab": {
      "name": "Homework2.ipynb",
      "provenance": [],
      "collapsed_sections": [],
      "authorship_tag": "ABX9TyNn2+RlxtYlfmhLqHx56sTp",
      "include_colab_link": true
    },
    "kernelspec": {
      "name": "python3",
      "display_name": "Python 3"
    }
  },
  "cells": [
    {
      "cell_type": "markdown",
      "metadata": {
        "id": "view-in-github",
        "colab_type": "text"
      },
      "source": [
        "<a href=\"https://colab.research.google.com/github/noahspenser/quantumcomputing/blob/master/Homework2.ipynb\" target=\"_parent\"><img src=\"https://colab.research.google.com/assets/colab-badge.svg\" alt=\"Open In Colab\"/></a>"
      ]
    },
    {
      "cell_type": "code",
      "metadata": {
        "id": "n83i7rQ7COLL",
        "colab_type": "code",
        "colab": {
          "base_uri": "https://localhost:8080/",
          "height": 609
        },
        "outputId": "34ffe308-bbb5-4cbf-8368-08d0f48bed5e"
      },
      "source": [
        "import numpy, numpy.random, scipy, scipy.linalg\n",
        "import matplotlib.pyplot as plt\n",
        "\n",
        "# Define 2D Identity\n",
        "Id = numpy.eye(2)\n",
        "\n",
        "# Define Zero and One kets\n",
        "Zero = numpy.array([[1.0],\n",
        "                    [0.0]])\n",
        "One = numpy.array([[0.0],\n",
        "                   [1.0]])\n",
        "\n",
        "# Define P0 and P1\n",
        "P0 = numpy.dot(Zero, Zero.T)\n",
        "P1 = numpy.dot(One, One.T)\n",
        "\n",
        "# Normalization lambda function\n",
        "Normalize = lambda state: state / scipy.linalg.norm(state)\n",
        "\n",
        "# Define Plus and Minus kets\n",
        "Plus = Normalize(Zero + One)\n",
        "Minus = Normalize(Zero - One)\n",
        "\n",
        "# Define Hadamard gate operator\n",
        "Hadamard = 1./numpy.sqrt(2) * numpy.array([[1, 1],\n",
        "                                           [1, -1]])\n",
        "\n",
        "# Define Swap gate operator\n",
        "SWAP = numpy.array([[1, 0, 0, 0],\n",
        "                    [0, 0, 1, 0],\n",
        "                    [0, 1, 0, 0],\n",
        "                    [0, 0, 0, 1]])\n",
        "\n",
        "# Define N Qubit input generator from Zero and One kets using Kronecker product\n",
        "def NQubit(*args):\n",
        "  result = numpy.array([[1.0]])\n",
        "  for arg in args:\n",
        "    result = numpy.kron(result, arg)\n",
        "  return result\n",
        "\n",
        "# Given a probabilistic state, calculate probability of returning zero\n",
        "def Prob0(InState):\n",
        "  # Calculate degree of input\n",
        "  l, w = InState.shape\n",
        "  n = int(numpy.round(numpy.log2(l)))\n",
        "  CatState = InState\n",
        "  RhoCatState = numpy.dot(CatState, CatState.T)\n",
        "  p0here = P0\n",
        "  # Generate output matrix of correct size\n",
        "  for m in range(n-1):\n",
        "    p0here = numpy.kron(p0here, Id)\n",
        "  return numpy.trace(numpy.dot(p0here, RhoCatState))\n",
        "\n",
        "# Create rotation matrix for given angle\n",
        "def RotMat(theta):\n",
        "  ang = 2 * numpy.pi * theta # Create angle from [0, 1)\n",
        "  # Define sine and cosine\n",
        "  c, s = numpy.cos(ang), numpy.sin(ang)\n",
        "  # Build and return rotation matrix\n",
        "  return numpy.array([[c, -s],\n",
        "                      [s, c]])\n",
        "\n",
        "def HadamardTest(psi, U):\n",
        "  # Create initial qubit states and combined state\n",
        "  qb1 = Zero\n",
        "  qb2 = psi\n",
        "  state = NQubit(qb1, qb2)\n",
        "\n",
        "  # Define controlled unitary operator for entangled state \n",
        "  # (Id top left, Unitary bottom right)\n",
        "  unitOp = numpy.append(numpy.kron(Zero, Id),numpy.kron(One, U), 1)\n",
        "\n",
        "  # Apply first Hadamard gate\n",
        "  state = numpy.dot(numpy.kron(Hadamard, Id), state)\n",
        "\n",
        "  # Apply controlled unitary operator\n",
        "  state = numpy.dot(unitOp, state)\n",
        "\n",
        "  # Apply second Hadamard gate\n",
        "  state = numpy.dot(numpy.kron(Hadamard, Id), state)\n",
        "\n",
        "  # Return final probabilistic state\n",
        "  return state\n",
        "\n",
        "def SwapTest(psi1, psi2):\n",
        "  # Create initial qubit states and combined state\n",
        "  qb1 = Zero\n",
        "  qb2 = psi1\n",
        "  qb3 = psi2\n",
        "  state = NQubit(qb1, qb2, qb3)\n",
        "\n",
        "  # Define Fredkin gate matrix\n",
        "  Fredkin = numpy.append(numpy.kron(Zero, NQubit(Id, Id)), numpy.kron(One, SWAP), 1)\n",
        "\n",
        "  # Apply first Hadamard gate\n",
        "  state = numpy.dot(NQubit(Hadamard, Id, Id), state)\n",
        "  \n",
        "  # Apply Fredkin gate\n",
        "  state = numpy.dot(Fredkin, state)\n",
        "  \n",
        "  # Apply second Hadamard gate\n",
        "  state = numpy.dot(NQubit(Hadamard, Id, Id), state)\n",
        "\n",
        "  # Return final probabilistic state\n",
        "  return state\n",
        "\n",
        "\n",
        "# Create lambda function for matplot\n",
        "HWTest1 = lambda Th: Prob0(HadamardTest(Zero, RotMat(Th)))\n",
        "\n",
        "# Create plot for part 1, Probability of measuring 0 in a Hadamard test with\n",
        "# ket psi = |0> and U = the rotation matrix for theta * 2 * pi\n",
        "print(\"Plot for Hadamard Rotation Matrix Test\")\n",
        "t = numpy.arange(0., 1., .01)\n",
        "t0 = numpy.array(list(map(HWTest1, t)))\n",
        "plt.plot(t, t0, 'ro')\n",
        "plt.xlabel('Rotation Angle / 2Pi')\n",
        "plt.ylabel('Probability of measuring \"0\"')\n",
        "plt.show()\n",
        "\n",
        "# Create lambda function for matplot\n",
        "HWTest2 = lambda Th: Prob0(SwapTest(Zero, numpy.cos(2*numpy.pi*Th) * Zero + numpy.sin(2*numpy.pi*Th) * One))\n",
        "# Create plot for part 2, Probability of measuring 0 in a SWAP test with\n",
        "# ket psi1 = |0> and ket psi2 = cos(2 pi theta)|0> + sin(2 pi theta)|1> for theta = [0, 1]\n",
        "print(\"\\n\\nPlot for SWAP Rotation Test\")\n",
        "t = numpy.arange(0., 1., .01)\n",
        "t0 = numpy.array(list(map(HWTest2, t)))\n",
        "plt.plot(t, t0, 'ro')\n",
        "plt.xlabel('Rotation Angle / 2Pi')\n",
        "plt.ylabel('Probability of measuring \"0\"')\n",
        "plt.show()"
      ],
      "execution_count": 143,
      "outputs": [
        {
          "output_type": "stream",
          "text": [
            "Plot for Hadamard Rotation Matrix Test\n"
          ],
          "name": "stdout"
        },
        {
          "output_type": "display_data",
          "data": {
            "image/png": "[encoded data removed]",
            "text/plain": [
              "<Figure size 432x288 with 1 Axes>"
            ]
          },
          "metadata": {
            "tags": []
          }
        },
        {
          "output_type": "stream",
          "text": [
            "\n",
            "\n",
            "Plot for SWAP Rotation Test\n"
          ],
          "name": "stdout"
        },
        {
          "output_type": "display_data",
          "data": {
            "image/png": "[encoded data removed]",
            "text/plain": [
              "<Figure size 432x288 with 1 Axes>"
            ]
          },
          "metadata": {
            "tags": []
          }
        }
      ]
    }
  ]
}